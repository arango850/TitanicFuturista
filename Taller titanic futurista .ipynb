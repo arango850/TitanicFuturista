{
 "cells": [
  {
   "cell_type": "code",
   "execution_count": 1,
   "id": "ee2dad80",
   "metadata": {},
   "outputs": [],
   "source": [
    "import pandas as pd\n",
    "import numpy as np\n",
    "from sklearn import linear_model\n",
    "from sklearn import model_selection\n",
    "from sklearn.metrics import classification_report\n",
    "from sklearn.metrics import confusion_matrix\n",
    "from sklearn import tree\n",
    "from sklearn.model_selection import train_test_split\n",
    "from sklearn.neighbors import KNeighborsClassifier\n",
    "from sklearn.naive_bayes import GaussianNB\n",
    "from sklearn.neighbors import KNeighborsClassifier\n",
    "from sklearn.metrics import accuracy_score"
   ]
  },
  {
   "cell_type": "code",
   "execution_count": 2,
   "id": "0589f770",
   "metadata": {},
   "outputs": [],
   "source": [
    "data = pd.read_csv(r\"train (2).csv\")"
   ]
  },
  {
   "cell_type": "code",
   "execution_count": 3,
   "id": "d917b807",
   "metadata": {},
   "outputs": [
    {
     "data": {
      "text/html": [
       "<div>\n",
       "<style scoped>\n",
       "    .dataframe tbody tr th:only-of-type {\n",
       "        vertical-align: middle;\n",
       "    }\n",
       "\n",
       "    .dataframe tbody tr th {\n",
       "        vertical-align: top;\n",
       "    }\n",
       "\n",
       "    .dataframe thead th {\n",
       "        text-align: right;\n",
       "    }\n",
       "</style>\n",
       "<table border=\"1\" class=\"dataframe\">\n",
       "  <thead>\n",
       "    <tr style=\"text-align: right;\">\n",
       "      <th></th>\n",
       "      <th>PassengerId</th>\n",
       "      <th>HomePlanet</th>\n",
       "      <th>CryoSleep</th>\n",
       "      <th>Cabin</th>\n",
       "      <th>Destination</th>\n",
       "      <th>Age</th>\n",
       "      <th>VIP</th>\n",
       "      <th>RoomService</th>\n",
       "      <th>FoodCourt</th>\n",
       "      <th>ShoppingMall</th>\n",
       "      <th>Spa</th>\n",
       "      <th>VRDeck</th>\n",
       "      <th>Name</th>\n",
       "      <th>Transported</th>\n",
       "    </tr>\n",
       "  </thead>\n",
       "  <tbody>\n",
       "    <tr>\n",
       "      <th>0</th>\n",
       "      <td>0001_01</td>\n",
       "      <td>Europa</td>\n",
       "      <td>False</td>\n",
       "      <td>B/0/P</td>\n",
       "      <td>TRAPPIST-1e</td>\n",
       "      <td>39.0</td>\n",
       "      <td>False</td>\n",
       "      <td>0.0</td>\n",
       "      <td>0.0</td>\n",
       "      <td>0.0</td>\n",
       "      <td>0.0</td>\n",
       "      <td>0.0</td>\n",
       "      <td>Maham Ofracculy</td>\n",
       "      <td>False</td>\n",
       "    </tr>\n",
       "    <tr>\n",
       "      <th>1</th>\n",
       "      <td>0002_01</td>\n",
       "      <td>Earth</td>\n",
       "      <td>False</td>\n",
       "      <td>F/0/S</td>\n",
       "      <td>TRAPPIST-1e</td>\n",
       "      <td>24.0</td>\n",
       "      <td>False</td>\n",
       "      <td>109.0</td>\n",
       "      <td>9.0</td>\n",
       "      <td>25.0</td>\n",
       "      <td>549.0</td>\n",
       "      <td>44.0</td>\n",
       "      <td>Juanna Vines</td>\n",
       "      <td>True</td>\n",
       "    </tr>\n",
       "    <tr>\n",
       "      <th>2</th>\n",
       "      <td>0003_01</td>\n",
       "      <td>Europa</td>\n",
       "      <td>False</td>\n",
       "      <td>A/0/S</td>\n",
       "      <td>TRAPPIST-1e</td>\n",
       "      <td>58.0</td>\n",
       "      <td>True</td>\n",
       "      <td>43.0</td>\n",
       "      <td>3576.0</td>\n",
       "      <td>0.0</td>\n",
       "      <td>6715.0</td>\n",
       "      <td>49.0</td>\n",
       "      <td>Altark Susent</td>\n",
       "      <td>False</td>\n",
       "    </tr>\n",
       "    <tr>\n",
       "      <th>3</th>\n",
       "      <td>0003_02</td>\n",
       "      <td>Europa</td>\n",
       "      <td>False</td>\n",
       "      <td>A/0/S</td>\n",
       "      <td>TRAPPIST-1e</td>\n",
       "      <td>33.0</td>\n",
       "      <td>False</td>\n",
       "      <td>0.0</td>\n",
       "      <td>1283.0</td>\n",
       "      <td>371.0</td>\n",
       "      <td>3329.0</td>\n",
       "      <td>193.0</td>\n",
       "      <td>Solam Susent</td>\n",
       "      <td>False</td>\n",
       "    </tr>\n",
       "    <tr>\n",
       "      <th>4</th>\n",
       "      <td>0004_01</td>\n",
       "      <td>Earth</td>\n",
       "      <td>False</td>\n",
       "      <td>F/1/S</td>\n",
       "      <td>TRAPPIST-1e</td>\n",
       "      <td>16.0</td>\n",
       "      <td>False</td>\n",
       "      <td>303.0</td>\n",
       "      <td>70.0</td>\n",
       "      <td>151.0</td>\n",
       "      <td>565.0</td>\n",
       "      <td>2.0</td>\n",
       "      <td>Willy Santantines</td>\n",
       "      <td>True</td>\n",
       "    </tr>\n",
       "  </tbody>\n",
       "</table>\n",
       "</div>"
      ],
      "text/plain": [
       "  PassengerId HomePlanet CryoSleep  Cabin  Destination   Age    VIP  \\\n",
       "0     0001_01     Europa     False  B/0/P  TRAPPIST-1e  39.0  False   \n",
       "1     0002_01      Earth     False  F/0/S  TRAPPIST-1e  24.0  False   \n",
       "2     0003_01     Europa     False  A/0/S  TRAPPIST-1e  58.0   True   \n",
       "3     0003_02     Europa     False  A/0/S  TRAPPIST-1e  33.0  False   \n",
       "4     0004_01      Earth     False  F/1/S  TRAPPIST-1e  16.0  False   \n",
       "\n",
       "   RoomService  FoodCourt  ShoppingMall     Spa  VRDeck               Name  \\\n",
       "0          0.0        0.0           0.0     0.0     0.0    Maham Ofracculy   \n",
       "1        109.0        9.0          25.0   549.0    44.0       Juanna Vines   \n",
       "2         43.0     3576.0           0.0  6715.0    49.0      Altark Susent   \n",
       "3          0.0     1283.0         371.0  3329.0   193.0       Solam Susent   \n",
       "4        303.0       70.0         151.0   565.0     2.0  Willy Santantines   \n",
       "\n",
       "   Transported  \n",
       "0        False  \n",
       "1         True  \n",
       "2        False  \n",
       "3        False  \n",
       "4         True  "
      ]
     },
     "execution_count": 3,
     "metadata": {},
     "output_type": "execute_result"
    }
   ],
   "source": [
    "data.head()"
   ]
  },
  {
   "cell_type": "code",
   "execution_count": 4,
   "id": "bf7b8d4f",
   "metadata": {},
   "outputs": [
    {
     "name": "stdout",
     "output_type": "stream",
     "text": [
      "<class 'pandas.core.frame.DataFrame'>\n",
      "RangeIndex: 8693 entries, 0 to 8692\n",
      "Data columns (total 14 columns):\n",
      " #   Column        Non-Null Count  Dtype  \n",
      "---  ------        --------------  -----  \n",
      " 0   PassengerId   8693 non-null   object \n",
      " 1   HomePlanet    8492 non-null   object \n",
      " 2   CryoSleep     8476 non-null   object \n",
      " 3   Cabin         8494 non-null   object \n",
      " 4   Destination   8511 non-null   object \n",
      " 5   Age           8514 non-null   float64\n",
      " 6   VIP           8490 non-null   object \n",
      " 7   RoomService   8512 non-null   float64\n",
      " 8   FoodCourt     8510 non-null   float64\n",
      " 9   ShoppingMall  8485 non-null   float64\n",
      " 10  Spa           8510 non-null   float64\n",
      " 11  VRDeck        8505 non-null   float64\n",
      " 12  Name          8493 non-null   object \n",
      " 13  Transported   8693 non-null   bool   \n",
      "dtypes: bool(1), float64(6), object(7)\n",
      "memory usage: 891.5+ KB\n"
     ]
    }
   ],
   "source": [
    "data.info()"
   ]
  },
  {
   "cell_type": "code",
   "execution_count": 5,
   "id": "926b5ccb",
   "metadata": {},
   "outputs": [
    {
     "data": {
      "text/plain": [
       "(8693, 14)"
      ]
     },
     "execution_count": 5,
     "metadata": {},
     "output_type": "execute_result"
    }
   ],
   "source": [
    "(data.isna().sum()/data.shape[0])*100\n",
    "data.shape"
   ]
  },
  {
   "cell_type": "code",
   "execution_count": 6,
   "id": "de0059d2",
   "metadata": {},
   "outputs": [
    {
     "data": {
      "text/plain": [
       "(6606, 14)"
      ]
     },
     "execution_count": 6,
     "metadata": {},
     "output_type": "execute_result"
    }
   ],
   "source": [
    "data = data.dropna()\n",
    "data.shape"
   ]
  },
  {
   "cell_type": "code",
   "execution_count": 7,
   "id": "1695340f",
   "metadata": {},
   "outputs": [
    {
     "data": {
      "text/plain": [
       "PassengerId     0.0\n",
       "HomePlanet      0.0\n",
       "CryoSleep       0.0\n",
       "Cabin           0.0\n",
       "Destination     0.0\n",
       "Age             0.0\n",
       "VIP             0.0\n",
       "RoomService     0.0\n",
       "FoodCourt       0.0\n",
       "ShoppingMall    0.0\n",
       "Spa             0.0\n",
       "VRDeck          0.0\n",
       "Name            0.0\n",
       "Transported     0.0\n",
       "dtype: float64"
      ]
     },
     "execution_count": 7,
     "metadata": {},
     "output_type": "execute_result"
    }
   ],
   "source": [
    "(data.isna().sum()/data.shape[0])*100"
   ]
  },
  {
   "cell_type": "code",
   "execution_count": 8,
   "id": "3fd010d3",
   "metadata": {},
   "outputs": [
    {
     "name": "stdout",
     "output_type": "stream",
     "text": [
      "              precision    recall  f1-score   support\n",
      "\n",
      "   No abordó       0.85      0.52      0.64       975\n",
      "      Abordó       0.66      0.91      0.77      1007\n",
      "\n",
      "    accuracy                           0.72      1982\n",
      "   macro avg       0.75      0.71      0.70      1982\n",
      "weighted avg       0.75      0.72      0.71      1982\n",
      "\n",
      "[[505 470]\n",
      " [ 90 917]]\n"
     ]
    }
   ],
   "source": [
    "X_train = np.array(data[[\"RoomService\",\"FoodCourt\",\"ShoppingMall\",\"Spa\"]])\n",
    "y_train = np.array(data[\"Transported\"])\n",
    "\n",
    "regr = linear_model.LogisticRegression()\n",
    "\n",
    "regr.fit(X_train, y_train)\n",
    "\n",
    "X_train, X_validation, Y_train, Y_validation = model_selection.train_test_split(X_train, data.Transported, test_size=0.30, random_state=42)\n",
    "target_names= [\"No abordó\", \"Abordó\"]\n",
    "predictions = regr.predict(X_validation)\n",
    "print(classification_report(Y_validation, predictions,target_names=target_names))\n",
    "print(confusion_matrix(Y_validation, predictions))"
   ]
  },
  {
   "cell_type": "code",
   "execution_count": 9,
   "id": "12c90b63",
   "metadata": {},
   "outputs": [
    {
     "name": "stdout",
     "output_type": "stream",
     "text": [
      "              precision    recall  f1-score   support\n",
      "\n",
      "   No Abordó       0.78      0.64      0.71       975\n",
      "      Abordó       0.71      0.83      0.76      1007\n",
      "\n",
      "    accuracy                           0.74      1982\n",
      "   macro avg       0.74      0.74      0.73      1982\n",
      "weighted avg       0.74      0.74      0.73      1982\n",
      "\n",
      "[[626 349]\n",
      " [172 835]]\n"
     ]
    }
   ],
   "source": [
    "X_train = np.array(data[[\"RoomService\",\"FoodCourt\",\"ShoppingMall\",\"Spa\"]])\n",
    "X_train, X_test, y_train, y_test = train_test_split(X_train, data.Transported, test_size=0.30, random_state=42)\n",
    "clf = tree.DecisionTreeClassifier()\n",
    "clf = clf.fit(X_train, y_train)\n",
    "\n",
    "from sklearn.metrics import classification_report\n",
    "\n",
    "y_pred= clf.predict(X_test)\n",
    "target_names= [\"No Abordó\",\"Abordó\"]\n",
    "print(classification_report(y_test,y_pred,target_names=target_names))\n",
    "print(confusion_matrix(y_test, y_pred))"
   ]
  },
  {
   "cell_type": "code",
   "execution_count": 10,
   "id": "0a266fa3",
   "metadata": {},
   "outputs": [
    {
     "name": "stdout",
     "output_type": "stream",
     "text": [
      "              precision    recall  f1-score   support\n",
      "\n",
      "   No abordó       0.89      0.39      0.54       975\n",
      "      Abordó       0.62      0.95      0.75      1007\n",
      "\n",
      "    accuracy                           0.68      1982\n",
      "   macro avg       0.75      0.67      0.65      1982\n",
      "weighted avg       0.75      0.68      0.65      1982\n",
      "\n",
      "[[383 592]\n",
      " [ 49 958]]\n"
     ]
    }
   ],
   "source": [
    "X_train = np.array(data[[\"RoomService\",\"FoodCourt\",\"ShoppingMall\",\"Spa\"]])\n",
    "y_train = np.array(data[\"Transported\"])\n",
    "model = GaussianNB()\n",
    "\n",
    "model.fit(X_train, y_train)\n",
    "\n",
    "\n",
    "X_train, X_validation, Y_train, Y_validation = model_selection.train_test_split(X_train, y_train, test_size=0.30, random_state=42)\n",
    "\n",
    "y_pred1 = model.predict(X_validation)\n",
    "\n",
    "target_names= [\"No abordó\", \"Abordó\"]\n",
    "print(classification_report(Y_validation, y_pred1,target_names=target_names))\n",
    "print(confusion_matrix(Y_validation, y_pred1))"
   ]
  },
  {
   "cell_type": "code",
   "execution_count": 11,
   "id": "abada435",
   "metadata": {},
   "outputs": [
    {
     "name": "stdout",
     "output_type": "stream",
     "text": [
      "              precision    recall  f1-score   support\n",
      "\n",
      "       False       0.86      0.74      0.79       975\n",
      "        True       0.78      0.88      0.83      1007\n",
      "\n",
      "    accuracy                           0.81      1982\n",
      "   macro avg       0.82      0.81      0.81      1982\n",
      "weighted avg       0.82      0.81      0.81      1982\n",
      "\n",
      "[[626 349]\n",
      " [172 835]]\n"
     ]
    }
   ],
   "source": [
    "X_train = np.array(data[[\"RoomService\",\"FoodCourt\",\"ShoppingMall\",\"Spa\"]])\n",
    "y_train = np.array(data[\"Transported\"])\n",
    "knn = KNeighborsClassifier()\n",
    "\n",
    "knn.fit(X_train,y_train)\n",
    "X_train, X_validation, Y_train, Y_validation = model_selection.train_test_split(X_train, y_train, test_size=0.30, random_state=42)\n",
    "\n",
    "ypred= knn.predict(X_validation)\n",
    "\n",
    "print(classification_report(Y_validation, ypred))\n",
    "print(confusion_matrix(Y_validation, y_pred))"
   ]
  },
  {
   "cell_type": "code",
   "execution_count": 12,
   "id": "9fae8c01",
   "metadata": {},
   "outputs": [
    {
     "data": {
      "text/plain": [
       "['knn.joblib']"
      ]
     },
     "execution_count": 12,
     "metadata": {},
     "output_type": "execute_result"
    }
   ],
   "source": [
    "import joblib\n",
    "\n",
    "joblib.dump(knn, \"knn.joblib\")"
   ]
  },
  {
   "cell_type": "code",
   "execution_count": 13,
   "id": "0ce16795",
   "metadata": {},
   "outputs": [
    {
     "name": "stdout",
     "output_type": "stream",
     "text": [
      "0.8113017154389506\n"
     ]
    }
   ],
   "source": [
    "loaded_model = joblib.load(\"knn.joblib\")\n",
    "\n",
    "result = accuracy_score(Y_validation, loaded_model.predict(X_test))\n",
    "print(result)"
   ]
  },
  {
   "cell_type": "code",
   "execution_count": 14,
   "id": "0ee51e2d",
   "metadata": {},
   "outputs": [
    {
     "data": {
      "text/plain": [
       "PassengerId     0.000000\n",
       "HomePlanet      2.034136\n",
       "CryoSleep       2.174421\n",
       "Cabin           2.338087\n",
       "Destination     2.151040\n",
       "Age             2.127660\n",
       "VIP             2.174421\n",
       "RoomService     1.917232\n",
       "FoodCourt       2.478373\n",
       "ShoppingMall    2.291326\n",
       "Spa             2.361468\n",
       "VRDeck          1.870470\n",
       "Name            2.197802\n",
       "dtype: float64"
      ]
     },
     "execution_count": 14,
     "metadata": {},
     "output_type": "execute_result"
    }
   ],
   "source": [
    "data_test = pd.read_csv(r\"C:\\Users\\Andrés Arango\\Downloads\\test (2).csv\")\n",
    "(data_test.isna().sum()/data_test.shape[0])*100"
   ]
  },
  {
   "cell_type": "code",
   "execution_count": 15,
   "id": "72666539",
   "metadata": {},
   "outputs": [
    {
     "data": {
      "text/plain": [
       "(4277, 13)"
      ]
     },
     "execution_count": 15,
     "metadata": {},
     "output_type": "execute_result"
    }
   ],
   "source": [
    "data_test.shape"
   ]
  },
  {
   "cell_type": "code",
   "execution_count": 16,
   "id": "76221741",
   "metadata": {},
   "outputs": [],
   "source": [
    "data_test[\"RoomService\"]=data_test[\"RoomService\"].fillna(value=0)\n",
    "data_test[\"FoodCourt\"]=data_test[\"FoodCourt\"].fillna(value=0)\n",
    "data_test[\"ShoppingMall\"]=data_test[\"ShoppingMall\"].fillna(value=0)\n",
    "data_test[\"Spa\"]=data_test[\"Spa\"].fillna(value=0)"
   ]
  },
  {
   "cell_type": "code",
   "execution_count": 17,
   "id": "47708f6c",
   "metadata": {},
   "outputs": [
    {
     "data": {
      "text/plain": [
       "PassengerId     0.000000\n",
       "HomePlanet      2.034136\n",
       "CryoSleep       2.174421\n",
       "Cabin           2.338087\n",
       "Destination     2.151040\n",
       "Age             2.127660\n",
       "VIP             2.174421\n",
       "RoomService     0.000000\n",
       "FoodCourt       0.000000\n",
       "ShoppingMall    0.000000\n",
       "Spa             0.000000\n",
       "VRDeck          1.870470\n",
       "Name            2.197802\n",
       "dtype: float64"
      ]
     },
     "execution_count": 17,
     "metadata": {},
     "output_type": "execute_result"
    }
   ],
   "source": [
    "(data_test.isna().sum()/data_test.shape[0])*100"
   ]
  },
  {
   "cell_type": "code",
   "execution_count": 18,
   "id": "de24b112",
   "metadata": {},
   "outputs": [],
   "source": [
    "y = np.array(data[\"Transported\"])\n",
    "features =[\"RoomService\",\"FoodCourt\",\"ShoppingMall\",\"Spa\"]\n",
    "\n",
    "X = pd.get_dummies(data[features])\n",
    "X_test = pd.get_dummies(data_test[features])\n",
    "\n",
    "knn = KNeighborsClassifier()\n",
    "\n",
    "knn.fit(X,y)\n",
    "\n",
    "predictions = knn.predict(X_test)\n",
    "\n",
    "output = pd.DataFrame({'PassengerId': data_test.PassengerId, 'Transported': predictions})\n",
    "output.to_csv('submission2.csv', index=False)"
   ]
  },
  {
   "attachments": {
    "image.png": {
     "image/png": "[encoded data removed]"
    }
   },
   "cell_type": "markdown",
   "id": "72b447de",
   "metadata": {},
   "source": [
    "![image.png](attachment:image.png)"
   ]
  },
  {
   "attachments": {},
   "cell_type": "markdown",
   "id": "01d94553",
   "metadata": {},
   "source": [
    "#### Registro del método en kaggle"
   ]
  },
  {
   "cell_type": "code",
   "execution_count": null,
   "id": "6e9db0bb",
   "metadata": {},
   "outputs": [],
   "source": []
  }
 ],
 "metadata": {
  "kernelspec": {
   "display_name": "Python 3 (ipykernel)",
   "language": "python",
   "name": "python3"
  },
  "language_info": {
   "codemirror_mode": {
    "name": "ipython",
    "version": 3
   },
   "file_extension": ".py",
   "mimetype": "text/x-python",
   "name": "python",
   "nbconvert_exporter": "python",
   "pygments_lexer": "ipython3",
   "version": "3.11.1"
  }
 },
 "nbformat": 4,
 "nbformat_minor": 5
}
